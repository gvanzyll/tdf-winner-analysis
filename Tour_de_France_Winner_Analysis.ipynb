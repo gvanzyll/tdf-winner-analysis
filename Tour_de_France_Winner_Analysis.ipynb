{
  "nbformat": 4,
  "nbformat_minor": 0,
  "metadata": {
    "colab": {
      "name": "Tour de France Winner Analysis.ipynb",
      "provenance": [],
      "collapsed_sections": [],
      "authorship_tag": "ABX9TyNtRcG7PISzDBoyHIvOT60D",
      "include_colab_link": true
    },
    "kernelspec": {
      "name": "python3",
      "display_name": "Python 3"
    },
    "language_info": {
      "name": "python"
    }
  },
  "cells": [
    {
      "cell_type": "markdown",
      "metadata": {
        "id": "view-in-github",
        "colab_type": "text"
      },
      "source": [
        "<a href=\"https://colab.research.google.com/github/gvanzyll/tdf-winner-analysis/blob/main/Tour_de_France_Winner_Analysis.ipynb\" target=\"_parent\"><img src=\"https://colab.research.google.com/assets/colab-badge.svg\" alt=\"Open In Colab\"/></a>"
      ]
    },
    {
      "cell_type": "code",
      "metadata": {
        "id": "rXH1RrZ7pxnM"
      },
      "source": [
        "#import pandas as numpy\n",
        "import pandas as pd\n",
        "import numpy as np"
      ],
      "execution_count": null,
      "outputs": []
    },
    {
      "cell_type": "code",
      "metadata": {
        "colab": {
          "resources": {
            "http://localhost:8080/nbextensions/google.colab/files.js": {
              "data": "Ly8gQ29weXJpZ2h0IDIwMTcgR29vZ2xlIExMQwovLwovLyBMaWNlbnNlZCB1bmRlciB0aGUgQXBhY2hlIExpY2Vuc2UsIFZlcnNpb24gMi4wICh0aGUgIkxpY2Vuc2UiKTsKLy8geW91IG1heSBub3QgdXNlIHRoaXMgZmlsZSBleGNlcHQgaW4gY29tcGxpYW5jZSB3aXRoIHRoZSBMaWNlbnNlLgovLyBZb3UgbWF5IG9idGFpbiBhIGNvcHkgb2YgdGhlIExpY2Vuc2UgYXQKLy8KLy8gICAgICBodHRwOi8vd3d3LmFwYWNoZS5vcmcvbGljZW5zZXMvTElDRU5TRS0yLjAKLy8KLy8gVW5sZXNzIHJlcXVpcmVkIGJ5IGFwcGxpY2FibGUgbGF3IG9yIGFncmVlZCB0byBpbiB3cml0aW5nLCBzb2Z0d2FyZQovLyBkaXN0cmlidXRlZCB1bmRlciB0aGUgTGljZW5zZSBpcyBkaXN0cmlidXRlZCBvbiBhbiAiQVMgSVMiIEJBU0lTLAovLyBXSVRIT1VUIFdBUlJBTlRJRVMgT1IgQ09ORElUSU9OUyBPRiBBTlkgS0lORCwgZWl0aGVyIGV4cHJlc3Mgb3IgaW1wbGllZC4KLy8gU2VlIHRoZSBMaWNlbnNlIGZvciB0aGUgc3BlY2lmaWMgbGFuZ3VhZ2UgZ292ZXJuaW5nIHBlcm1pc3Npb25zIGFuZAovLyBsaW1pdGF0aW9ucyB1bmRlciB0aGUgTGljZW5zZS4KCi8qKgogKiBAZmlsZW92ZXJ2aWV3IEhlbHBlcnMgZm9yIGdvb2dsZS5jb2xhYiBQeXRob24gbW9kdWxlLgogKi8KKGZ1bmN0aW9uKHNjb3BlKSB7CmZ1bmN0aW9uIHNwYW4odGV4dCwgc3R5bGVBdHRyaWJ1dGVzID0ge30pIHsKICBjb25zdCBlbGVtZW50ID0gZG9jdW1lbnQuY3JlYXRlRWxlbWVudCgnc3BhbicpOwogIGVsZW1lbnQudGV4dENvbnRlbnQgPSB0ZXh0OwogIGZvciAoY29uc3Qga2V5IG9mIE9iamVjdC5rZXlzKHN0eWxlQXR0cmlidXRlcykpIHsKICAgIGVsZW1lbnQuc3R5bGVba2V5XSA9IHN0eWxlQXR0cmlidXRlc1trZXldOwogIH0KICByZXR1cm4gZWxlbWVudDsKfQoKLy8gTWF4IG51bWJlciBvZiBieXRlcyB3aGljaCB3aWxsIGJlIHVwbG9hZGVkIGF0IGEgdGltZS4KY29uc3QgTUFYX1BBWUxPQURfU0laRSA9IDEwMCAqIDEwMjQ7CgpmdW5jdGlvbiBfdXBsb2FkRmlsZXMoaW5wdXRJZCwgb3V0cHV0SWQpIHsKICBjb25zdCBzdGVwcyA9IHVwbG9hZEZpbGVzU3RlcChpbnB1dElkLCBvdXRwdXRJZCk7CiAgY29uc3Qgb3V0cHV0RWxlbWVudCA9IGRvY3VtZW50LmdldEVsZW1lbnRCeUlkKG91dHB1dElkKTsKICAvLyBDYWNoZSBzdGVwcyBvbiB0aGUgb3V0cHV0RWxlbWVudCB0byBtYWtlIGl0IGF2YWlsYWJsZSBmb3IgdGhlIG5leHQgY2FsbAogIC8vIHRvIHVwbG9hZEZpbGVzQ29udGludWUgZnJvbSBQeXRob24uCiAgb3V0cHV0RWxlbWVudC5zdGVwcyA9IHN0ZXBzOwoKICByZXR1cm4gX3VwbG9hZEZpbGVzQ29udGludWUob3V0cHV0SWQpOwp9CgovLyBUaGlzIGlzIHJvdWdobHkgYW4gYXN5bmMgZ2VuZXJhdG9yIChub3Qgc3VwcG9ydGVkIGluIHRoZSBicm93c2VyIHlldCksCi8vIHdoZXJlIHRoZXJlIGFyZSBtdWx0aXBsZSBhc3luY2hyb25vdXMgc3RlcHMgYW5kIHRoZSBQeXRob24gc2lkZSBpcyBnb2luZwovLyB0byBwb2xsIGZvciBjb21wbGV0aW9uIG9mIGVhY2ggc3RlcC4KLy8gVGhpcyB1c2VzIGEgUHJvbWlzZSB0byBibG9jayB0aGUgcHl0aG9uIHNpZGUgb24gY29tcGxldGlvbiBvZiBlYWNoIHN0ZXAsCi8vIHRoZW4gcGFzc2VzIHRoZSByZXN1bHQgb2YgdGhlIHByZXZpb3VzIHN0ZXAgYXMgdGhlIGlucHV0IHRvIHRoZSBuZXh0IHN0ZXAuCmZ1bmN0aW9uIF91cGxvYWRGaWxlc0NvbnRpbnVlKG91dHB1dElkKSB7CiAgY29uc3Qgb3V0cHV0RWxlbWVudCA9IGRvY3VtZW50LmdldEVsZW1lbnRCeUlkKG91dHB1dElkKTsKICBjb25zdCBzdGVwcyA9IG91dHB1dEVsZW1lbnQuc3RlcHM7CgogIGNvbnN0IG5leHQgPSBzdGVwcy5uZXh0KG91dHB1dEVsZW1lbnQubGFzdFByb21pc2VWYWx1ZSk7CiAgcmV0dXJuIFByb21pc2UucmVzb2x2ZShuZXh0LnZhbHVlLnByb21pc2UpLnRoZW4oKHZhbHVlKSA9PiB7CiAgICAvLyBDYWNoZSB0aGUgbGFzdCBwcm9taXNlIHZhbHVlIHRvIG1ha2UgaXQgYXZhaWxhYmxlIHRvIHRoZSBuZXh0CiAgICAvLyBzdGVwIG9mIHRoZSBnZW5lcmF0b3IuCiAgICBvdXRwdXRFbGVtZW50Lmxhc3RQcm9taXNlVmFsdWUgPSB2YWx1ZTsKICAgIHJldHVybiBuZXh0LnZhbHVlLnJlc3BvbnNlOwogIH0pOwp9CgovKioKICogR2VuZXJhdG9yIGZ1bmN0aW9uIHdoaWNoIGlzIGNhbGxlZCBiZXR3ZWVuIGVhY2ggYXN5bmMgc3RlcCBvZiB0aGUgdXBsb2FkCiAqIHByb2Nlc3MuCiAqIEBwYXJhbSB7c3RyaW5nfSBpbnB1dElkIEVsZW1lbnQgSUQgb2YgdGhlIGlucHV0IGZpbGUgcGlja2VyIGVsZW1lbnQuCiAqIEBwYXJhbSB7c3RyaW5nfSBvdXRwdXRJZCBFbGVtZW50IElEIG9mIHRoZSBvdXRwdXQgZGlzcGxheS4KICogQHJldHVybiB7IUl0ZXJhYmxlPCFPYmplY3Q+fSBJdGVyYWJsZSBvZiBuZXh0IHN0ZXBzLgogKi8KZnVuY3Rpb24qIHVwbG9hZEZpbGVzU3RlcChpbnB1dElkLCBvdXRwdXRJZCkgewogIGNvbnN0IGlucHV0RWxlbWVudCA9IGRvY3VtZW50LmdldEVsZW1lbnRCeUlkKGlucHV0SWQpOwogIGlucHV0RWxlbWVudC5kaXNhYmxlZCA9IGZhbHNlOwoKICBjb25zdCBvdXRwdXRFbGVtZW50ID0gZG9jdW1lbnQuZ2V0RWxlbWVudEJ5SWQob3V0cHV0SWQpOwogIG91dHB1dEVsZW1lbnQuaW5uZXJIVE1MID0gJyc7CgogIGNvbnN0IHBpY2tlZFByb21pc2UgPSBuZXcgUHJvbWlzZSgocmVzb2x2ZSkgPT4gewogICAgaW5wdXRFbGVtZW50LmFkZEV2ZW50TGlzdGVuZXIoJ2NoYW5nZScsIChlKSA9PiB7CiAgICAgIHJlc29sdmUoZS50YXJnZXQuZmlsZXMpOwogICAgfSk7CiAgfSk7CgogIGNvbnN0IGNhbmNlbCA9IGRvY3VtZW50LmNyZWF0ZUVsZW1lbnQoJ2J1dHRvbicpOwogIGlucHV0RWxlbWVudC5wYXJlbnRFbGVtZW50LmFwcGVuZENoaWxkKGNhbmNlbCk7CiAgY2FuY2VsLnRleHRDb250ZW50ID0gJ0NhbmNlbCB1cGxvYWQnOwogIGNvbnN0IGNhbmNlbFByb21pc2UgPSBuZXcgUHJvbWlzZSgocmVzb2x2ZSkgPT4gewogICAgY2FuY2VsLm9uY2xpY2sgPSAoKSA9PiB7CiAgICAgIHJlc29sdmUobnVsbCk7CiAgICB9OwogIH0pOwoKICAvLyBXYWl0IGZvciB0aGUgdXNlciB0byBwaWNrIHRoZSBmaWxlcy4KICBjb25zdCBmaWxlcyA9IHlpZWxkIHsKICAgIHByb21pc2U6IFByb21pc2UucmFjZShbcGlja2VkUHJvbWlzZSwgY2FuY2VsUHJvbWlzZV0pLAogICAgcmVzcG9uc2U6IHsKICAgICAgYWN0aW9uOiAnc3RhcnRpbmcnLAogICAgfQogIH07CgogIGNhbmNlbC5yZW1vdmUoKTsKCiAgLy8gRGlzYWJsZSB0aGUgaW5wdXQgZWxlbWVudCBzaW5jZSBmdXJ0aGVyIHBpY2tzIGFyZSBub3QgYWxsb3dlZC4KICBpbnB1dEVsZW1lbnQuZGlzYWJsZWQgPSB0cnVlOwoKICBpZiAoIWZpbGVzKSB7CiAgICByZXR1cm4gewogICAgICByZXNwb25zZTogewogICAgICAgIGFjdGlvbjogJ2NvbXBsZXRlJywKICAgICAgfQogICAgfTsKICB9CgogIGZvciAoY29uc3QgZmlsZSBvZiBmaWxlcykgewogICAgY29uc3QgbGkgPSBkb2N1bWVudC5jcmVhdGVFbGVtZW50KCdsaScpOwogICAgbGkuYXBwZW5kKHNwYW4oZmlsZS5uYW1lLCB7Zm9udFdlaWdodDogJ2JvbGQnfSkpOwogICAgbGkuYXBwZW5kKHNwYW4oCiAgICAgICAgYCgke2ZpbGUudHlwZSB8fCAnbi9hJ30pIC0gJHtmaWxlLnNpemV9IGJ5dGVzLCBgICsKICAgICAgICBgbGFzdCBtb2RpZmllZDogJHsKICAgICAgICAgICAgZmlsZS5sYXN0TW9kaWZpZWREYXRlID8gZmlsZS5sYXN0TW9kaWZpZWREYXRlLnRvTG9jYWxlRGF0ZVN0cmluZygpIDoKICAgICAgICAgICAgICAgICAgICAgICAgICAgICAgICAgICAgJ24vYSd9IC0gYCkpOwogICAgY29uc3QgcGVyY2VudCA9IHNwYW4oJzAlIGRvbmUnKTsKICAgIGxpLmFwcGVuZENoaWxkKHBlcmNlbnQpOwoKICAgIG91dHB1dEVsZW1lbnQuYXBwZW5kQ2hpbGQobGkpOwoKICAgIGNvbnN0IGZpbGVEYXRhUHJvbWlzZSA9IG5ldyBQcm9taXNlKChyZXNvbHZlKSA9PiB7CiAgICAgIGNvbnN0IHJlYWRlciA9IG5ldyBGaWxlUmVhZGVyKCk7CiAgICAgIHJlYWRlci5vbmxvYWQgPSAoZSkgPT4gewogICAgICAgIHJlc29sdmUoZS50YXJnZXQucmVzdWx0KTsKICAgICAgfTsKICAgICAgcmVhZGVyLnJlYWRBc0FycmF5QnVmZmVyKGZpbGUpOwogICAgfSk7CiAgICAvLyBXYWl0IGZvciB0aGUgZGF0YSB0byBiZSByZWFkeS4KICAgIGxldCBmaWxlRGF0YSA9IHlpZWxkIHsKICAgICAgcHJvbWlzZTogZmlsZURhdGFQcm9taXNlLAogICAgICByZXNwb25zZTogewogICAgICAgIGFjdGlvbjogJ2NvbnRpbnVlJywKICAgICAgfQogICAgfTsKCiAgICAvLyBVc2UgYSBjaHVua2VkIHNlbmRpbmcgdG8gYXZvaWQgbWVzc2FnZSBzaXplIGxpbWl0cy4gU2VlIGIvNjIxMTU2NjAuCiAgICBsZXQgcG9zaXRpb24gPSAwOwogICAgZG8gewogICAgICBjb25zdCBsZW5ndGggPSBNYXRoLm1pbihmaWxlRGF0YS5ieXRlTGVuZ3RoIC0gcG9zaXRpb24sIE1BWF9QQVlMT0FEX1NJWkUpOwogICAgICBjb25zdCBjaHVuayA9IG5ldyBVaW50OEFycmF5KGZpbGVEYXRhLCBwb3NpdGlvbiwgbGVuZ3RoKTsKICAgICAgcG9zaXRpb24gKz0gbGVuZ3RoOwoKICAgICAgY29uc3QgYmFzZTY0ID0gYnRvYShTdHJpbmcuZnJvbUNoYXJDb2RlLmFwcGx5KG51bGwsIGNodW5rKSk7CiAgICAgIHlpZWxkIHsKICAgICAgICByZXNwb25zZTogewogICAgICAgICAgYWN0aW9uOiAnYXBwZW5kJywKICAgICAgICAgIGZpbGU6IGZpbGUubmFtZSwKICAgICAgICAgIGRhdGE6IGJhc2U2NCwKICAgICAgICB9LAogICAgICB9OwoKICAgICAgbGV0IHBlcmNlbnREb25lID0gZmlsZURhdGEuYnl0ZUxlbmd0aCA9PT0gMCA/CiAgICAgICAgICAxMDAgOgogICAgICAgICAgTWF0aC5yb3VuZCgocG9zaXRpb24gLyBmaWxlRGF0YS5ieXRlTGVuZ3RoKSAqIDEwMCk7CiAgICAgIHBlcmNlbnQudGV4dENvbnRlbnQgPSBgJHtwZXJjZW50RG9uZX0lIGRvbmVgOwoKICAgIH0gd2hpbGUgKHBvc2l0aW9uIDwgZmlsZURhdGEuYnl0ZUxlbmd0aCk7CiAgfQoKICAvLyBBbGwgZG9uZS4KICB5aWVsZCB7CiAgICByZXNwb25zZTogewogICAgICBhY3Rpb246ICdjb21wbGV0ZScsCiAgICB9CiAgfTsKfQoKc2NvcGUuZ29vZ2xlID0gc2NvcGUuZ29vZ2xlIHx8IHt9OwpzY29wZS5nb29nbGUuY29sYWIgPSBzY29wZS5nb29nbGUuY29sYWIgfHwge307CnNjb3BlLmdvb2dsZS5jb2xhYi5fZmlsZXMgPSB7CiAgX3VwbG9hZEZpbGVzLAogIF91cGxvYWRGaWxlc0NvbnRpbnVlLAp9Owp9KShzZWxmKTsK",
              "ok": true,
              "headers": [
                [
                  "content-type",
                  "application/javascript"
                ]
              ],
              "status": 200,
              "status_text": ""
            }
          },
          "base_uri": "https://localhost:8080/",
          "height": 74
        },
        "id": "aPZrIulPqIlF",
        "outputId": "97a2e714-821d-49b0-c49e-facea4937508"
      },
      "source": [
        "#import dataset from local comp pt. 1\n",
        "from google.colab import files\n",
        "uploaded = files.upload()"
      ],
      "execution_count": null,
      "outputs": [
        {
          "output_type": "display_data",
          "data": {
            "text/html": [
              "\n",
              "     <input type=\"file\" id=\"files-9cc62f23-c53c-4d53-9bb3-954818de31db\" name=\"files[]\" multiple disabled\n",
              "        style=\"border:none\" />\n",
              "     <output id=\"result-9cc62f23-c53c-4d53-9bb3-954818de31db\">\n",
              "      Upload widget is only available when the cell has been executed in the\n",
              "      current browser session. Please rerun this cell to enable.\n",
              "      </output>\n",
              "      <script src=\"/nbextensions/google.colab/files.js\"></script> "
            ],
            "text/plain": [
              "<IPython.core.display.HTML object>"
            ]
          },
          "metadata": {}
        },
        {
          "output_type": "stream",
          "name": "stdout",
          "text": [
            "Saving tdf_winners.csv to tdf_winners.csv\n"
          ]
        }
      ]
    },
    {
      "cell_type": "code",
      "metadata": {
        "colab": {
          "base_uri": "https://localhost:8080/",
          "height": 365
        },
        "id": "trOIb7T5qI7q",
        "outputId": "80f20360-13fb-4b45-908e-d66fe6ce6195"
      },
      "source": [
        "#import dataset from local comp pt. 2\n",
        "import io\n",
        "tdf_winners = pd.read_csv(io.BytesIO(uploaded['tdf_winners.csv']))\n",
        "#print first 5 rows and explore data\n",
        "tdf_winners.head()\n"
      ],
      "execution_count": null,
      "outputs": [
        {
          "output_type": "execute_result",
          "data": {
            "text/html": [
              "<div>\n",
              "<style scoped>\n",
              "    .dataframe tbody tr th:only-of-type {\n",
              "        vertical-align: middle;\n",
              "    }\n",
              "\n",
              "    .dataframe tbody tr th {\n",
              "        vertical-align: top;\n",
              "    }\n",
              "\n",
              "    .dataframe thead th {\n",
              "        text-align: right;\n",
              "    }\n",
              "</style>\n",
              "<table border=\"1\" class=\"dataframe\">\n",
              "  <thead>\n",
              "    <tr style=\"text-align: right;\">\n",
              "      <th></th>\n",
              "      <th>edition</th>\n",
              "      <th>start_date</th>\n",
              "      <th>winner_name</th>\n",
              "      <th>winner_team</th>\n",
              "      <th>distance</th>\n",
              "      <th>time_overall</th>\n",
              "      <th>time_margin</th>\n",
              "      <th>stage_wins</th>\n",
              "      <th>stages_led</th>\n",
              "      <th>height</th>\n",
              "      <th>weight</th>\n",
              "      <th>age</th>\n",
              "      <th>born</th>\n",
              "      <th>died</th>\n",
              "      <th>full_name</th>\n",
              "      <th>nickname</th>\n",
              "      <th>birth_town</th>\n",
              "      <th>birth_country</th>\n",
              "      <th>nationality</th>\n",
              "    </tr>\n",
              "  </thead>\n",
              "  <tbody>\n",
              "    <tr>\n",
              "      <th>0</th>\n",
              "      <td>1</td>\n",
              "      <td>1903-07-01</td>\n",
              "      <td>Maurice Garin</td>\n",
              "      <td>La Française</td>\n",
              "      <td>2428.0</td>\n",
              "      <td>94.553889</td>\n",
              "      <td>2.989167</td>\n",
              "      <td>3</td>\n",
              "      <td>6</td>\n",
              "      <td>1.62</td>\n",
              "      <td>60.0</td>\n",
              "      <td>32</td>\n",
              "      <td>1871-03-03</td>\n",
              "      <td>1957-02-19</td>\n",
              "      <td>NaN</td>\n",
              "      <td>The Little Chimney-sweep</td>\n",
              "      <td>Arvier</td>\n",
              "      <td>Italy</td>\n",
              "      <td>France</td>\n",
              "    </tr>\n",
              "    <tr>\n",
              "      <th>1</th>\n",
              "      <td>2</td>\n",
              "      <td>1904-07-02</td>\n",
              "      <td>Henri Cornet</td>\n",
              "      <td>Conte</td>\n",
              "      <td>2428.0</td>\n",
              "      <td>96.098611</td>\n",
              "      <td>2.270556</td>\n",
              "      <td>1</td>\n",
              "      <td>3</td>\n",
              "      <td>NaN</td>\n",
              "      <td>NaN</td>\n",
              "      <td>19</td>\n",
              "      <td>1884-08-04</td>\n",
              "      <td>1941-03-18</td>\n",
              "      <td>NaN</td>\n",
              "      <td>Le rigolo (The joker)</td>\n",
              "      <td>Desvres</td>\n",
              "      <td>France</td>\n",
              "      <td>France</td>\n",
              "    </tr>\n",
              "    <tr>\n",
              "      <th>2</th>\n",
              "      <td>3</td>\n",
              "      <td>1905-07-09</td>\n",
              "      <td>Louis Trousselier</td>\n",
              "      <td>Peugeot–Wolber</td>\n",
              "      <td>2994.0</td>\n",
              "      <td>NaN</td>\n",
              "      <td>NaN</td>\n",
              "      <td>5</td>\n",
              "      <td>10</td>\n",
              "      <td>NaN</td>\n",
              "      <td>NaN</td>\n",
              "      <td>24</td>\n",
              "      <td>1881-06-29</td>\n",
              "      <td>1939-04-24</td>\n",
              "      <td>NaN</td>\n",
              "      <td>Levaloy / Trou-trou</td>\n",
              "      <td>Paris</td>\n",
              "      <td>France</td>\n",
              "      <td>France</td>\n",
              "    </tr>\n",
              "    <tr>\n",
              "      <th>3</th>\n",
              "      <td>4</td>\n",
              "      <td>1906-07-04</td>\n",
              "      <td>René Pottier</td>\n",
              "      <td>Peugeot–Wolber</td>\n",
              "      <td>4637.0</td>\n",
              "      <td>NaN</td>\n",
              "      <td>NaN</td>\n",
              "      <td>5</td>\n",
              "      <td>12</td>\n",
              "      <td>NaN</td>\n",
              "      <td>NaN</td>\n",
              "      <td>27</td>\n",
              "      <td>1879-06-05</td>\n",
              "      <td>1907-01-25</td>\n",
              "      <td>NaN</td>\n",
              "      <td>NaN</td>\n",
              "      <td>Moret-sur-Loing</td>\n",
              "      <td>France</td>\n",
              "      <td>France</td>\n",
              "    </tr>\n",
              "    <tr>\n",
              "      <th>4</th>\n",
              "      <td>5</td>\n",
              "      <td>1907-07-08</td>\n",
              "      <td>Lucien Petit-Breton</td>\n",
              "      <td>Peugeot–Wolber</td>\n",
              "      <td>4488.0</td>\n",
              "      <td>NaN</td>\n",
              "      <td>NaN</td>\n",
              "      <td>2</td>\n",
              "      <td>5</td>\n",
              "      <td>NaN</td>\n",
              "      <td>NaN</td>\n",
              "      <td>24</td>\n",
              "      <td>1882-10-18</td>\n",
              "      <td>1917-12-20</td>\n",
              "      <td>Lucien Georges Mazan</td>\n",
              "      <td>Lucien Petit-Breton</td>\n",
              "      <td>Plessé</td>\n",
              "      <td>France</td>\n",
              "      <td>France</td>\n",
              "    </tr>\n",
              "  </tbody>\n",
              "</table>\n",
              "</div>"
            ],
            "text/plain": [
              "   edition  start_date  ... birth_country nationality\n",
              "0        1  1903-07-01  ...         Italy      France\n",
              "1        2  1904-07-02  ...        France      France\n",
              "2        3  1905-07-09  ...        France      France\n",
              "3        4  1906-07-04  ...        France      France\n",
              "4        5  1907-07-08  ...        France      France\n",
              "\n",
              "[5 rows x 19 columns]"
            ]
          },
          "metadata": {},
          "execution_count": 4
        }
      ]
    },
    {
      "cell_type": "code",
      "metadata": {
        "colab": {
          "base_uri": "https://localhost:8080/",
          "height": 261
        },
        "id": "nV5WBYHOqQfM",
        "outputId": "8906197d-8e1c-42ac-c0c3-e05e002b736a"
      },
      "source": [
        "#drop the columns that we're not interested for this analysis. Ex: 'birth_town'\n",
        "tdf_winners.drop(columns = ['winner_team', 'born', 'died', 'full_name', 'nickname', 'birth_town', 'birth_country'], inplace=True)\n",
        "tdf_winners.head()"
      ],
      "execution_count": null,
      "outputs": [
        {
          "output_type": "execute_result",
          "data": {
            "text/html": [
              "<div>\n",
              "<style scoped>\n",
              "    .dataframe tbody tr th:only-of-type {\n",
              "        vertical-align: middle;\n",
              "    }\n",
              "\n",
              "    .dataframe tbody tr th {\n",
              "        vertical-align: top;\n",
              "    }\n",
              "\n",
              "    .dataframe thead th {\n",
              "        text-align: right;\n",
              "    }\n",
              "</style>\n",
              "<table border=\"1\" class=\"dataframe\">\n",
              "  <thead>\n",
              "    <tr style=\"text-align: right;\">\n",
              "      <th></th>\n",
              "      <th>edition</th>\n",
              "      <th>start_date</th>\n",
              "      <th>winner_name</th>\n",
              "      <th>distance</th>\n",
              "      <th>time_overall</th>\n",
              "      <th>time_margin</th>\n",
              "      <th>stage_wins</th>\n",
              "      <th>stages_led</th>\n",
              "      <th>height</th>\n",
              "      <th>weight</th>\n",
              "      <th>age</th>\n",
              "      <th>nationality</th>\n",
              "    </tr>\n",
              "  </thead>\n",
              "  <tbody>\n",
              "    <tr>\n",
              "      <th>0</th>\n",
              "      <td>1</td>\n",
              "      <td>1903-07-01</td>\n",
              "      <td>Maurice Garin</td>\n",
              "      <td>2428.0</td>\n",
              "      <td>94.553889</td>\n",
              "      <td>2.989167</td>\n",
              "      <td>3</td>\n",
              "      <td>6</td>\n",
              "      <td>1.62</td>\n",
              "      <td>60.0</td>\n",
              "      <td>32</td>\n",
              "      <td>France</td>\n",
              "    </tr>\n",
              "    <tr>\n",
              "      <th>1</th>\n",
              "      <td>2</td>\n",
              "      <td>1904-07-02</td>\n",
              "      <td>Henri Cornet</td>\n",
              "      <td>2428.0</td>\n",
              "      <td>96.098611</td>\n",
              "      <td>2.270556</td>\n",
              "      <td>1</td>\n",
              "      <td>3</td>\n",
              "      <td>NaN</td>\n",
              "      <td>NaN</td>\n",
              "      <td>19</td>\n",
              "      <td>France</td>\n",
              "    </tr>\n",
              "    <tr>\n",
              "      <th>2</th>\n",
              "      <td>3</td>\n",
              "      <td>1905-07-09</td>\n",
              "      <td>Louis Trousselier</td>\n",
              "      <td>2994.0</td>\n",
              "      <td>NaN</td>\n",
              "      <td>NaN</td>\n",
              "      <td>5</td>\n",
              "      <td>10</td>\n",
              "      <td>NaN</td>\n",
              "      <td>NaN</td>\n",
              "      <td>24</td>\n",
              "      <td>France</td>\n",
              "    </tr>\n",
              "    <tr>\n",
              "      <th>3</th>\n",
              "      <td>4</td>\n",
              "      <td>1906-07-04</td>\n",
              "      <td>René Pottier</td>\n",
              "      <td>4637.0</td>\n",
              "      <td>NaN</td>\n",
              "      <td>NaN</td>\n",
              "      <td>5</td>\n",
              "      <td>12</td>\n",
              "      <td>NaN</td>\n",
              "      <td>NaN</td>\n",
              "      <td>27</td>\n",
              "      <td>France</td>\n",
              "    </tr>\n",
              "    <tr>\n",
              "      <th>4</th>\n",
              "      <td>5</td>\n",
              "      <td>1907-07-08</td>\n",
              "      <td>Lucien Petit-Breton</td>\n",
              "      <td>4488.0</td>\n",
              "      <td>NaN</td>\n",
              "      <td>NaN</td>\n",
              "      <td>2</td>\n",
              "      <td>5</td>\n",
              "      <td>NaN</td>\n",
              "      <td>NaN</td>\n",
              "      <td>24</td>\n",
              "      <td>France</td>\n",
              "    </tr>\n",
              "  </tbody>\n",
              "</table>\n",
              "</div>"
            ],
            "text/plain": [
              "   edition  start_date          winner_name  ...  weight  age  nationality\n",
              "0        1  1903-07-01        Maurice Garin  ...    60.0   32       France\n",
              "1        2  1904-07-02         Henri Cornet  ...     NaN   19       France\n",
              "2        3  1905-07-09    Louis Trousselier  ...     NaN   24       France\n",
              "3        4  1906-07-04         René Pottier  ...     NaN   27       France\n",
              "4        5  1907-07-08  Lucien Petit-Breton  ...     NaN   24       France\n",
              "\n",
              "[5 rows x 12 columns]"
            ]
          },
          "metadata": {},
          "execution_count": 5
        }
      ]
    },
    {
      "cell_type": "code",
      "metadata": {
        "colab": {
          "base_uri": "https://localhost:8080/"
        },
        "id": "rSFFxE7rtq-h",
        "outputId": "318ceb4a-5ebb-4e6a-8b29-9b2625b8fb39"
      },
      "source": [
        "#I see some missing values for height & weight. Let's see how many null values in the dataset.\n",
        "tdf_winners.isnull().sum()"
      ],
      "execution_count": null,
      "outputs": [
        {
          "output_type": "execute_result",
          "data": {
            "text/plain": [
              "edition          0\n",
              "start_date       0\n",
              "winner_name      0\n",
              "distance         0\n",
              "time_overall     8\n",
              "time_margin      8\n",
              "stage_wins       0\n",
              "stages_led       0\n",
              "height          40\n",
              "weight          39\n",
              "age              0\n",
              "nationality      0\n",
              "dtype: int64"
            ]
          },
          "metadata": {},
          "execution_count": 6
        }
      ]
    },
    {
      "cell_type": "code",
      "metadata": {
        "id": "tBbeUD7suKTY"
      },
      "source": [
        "#Remove any row with missing data. \n",
        "#Time, height, and age are all cruicial to the analysis.\n",
        "tdf_winners.dropna(axis=0, how='any', inplace=True)"
      ],
      "execution_count": null,
      "outputs": []
    },
    {
      "cell_type": "code",
      "metadata": {
        "colab": {
          "base_uri": "https://localhost:8080/"
        },
        "id": "bbfp9fq2uzSC",
        "outputId": "947880f2-de51-4e1a-df8c-07ce6b1c6925"
      },
      "source": [
        "#confirm success of last command\n",
        "tdf_winners.isnull().sum()"
      ],
      "execution_count": null,
      "outputs": [
        {
          "output_type": "execute_result",
          "data": {
            "text/plain": [
              "edition         0\n",
              "start_date      0\n",
              "winner_name     0\n",
              "distance        0\n",
              "time_overall    0\n",
              "time_margin     0\n",
              "stage_wins      0\n",
              "stages_led      0\n",
              "height          0\n",
              "weight          0\n",
              "age             0\n",
              "nationality     0\n",
              "dtype: int64"
            ]
          },
          "metadata": {},
          "execution_count": 8
        }
      ]
    },
    {
      "cell_type": "code",
      "metadata": {
        "id": "hZHyckKPvArP"
      },
      "source": [
        "#Make a list of datetime info using 'start_date' column \n",
        "tdf_date_time = pd.to_datetime(tdf_winners['start_date'])"
      ],
      "execution_count": null,
      "outputs": []
    },
    {
      "cell_type": "code",
      "metadata": {
        "id": "JCDpJ_rku75p"
      },
      "source": [
        "#insert new 'year' column using datetime list\n",
        "tdf_winners.insert(2, 'year', tdf_date_time.dt.year)"
      ],
      "execution_count": null,
      "outputs": []
    },
    {
      "cell_type": "code",
      "metadata": {
        "id": "vW-mDFdBwpIe"
      },
      "source": [
        "#drop start_date columns\n",
        "tdf_winners.drop(columns = 'start_date', inplace=True)"
      ],
      "execution_count": null,
      "outputs": []
    },
    {
      "cell_type": "code",
      "metadata": {
        "id": "vgZR6UiK-NkT"
      },
      "source": [
        "#change time_margin from hours to minutes & rename column\n",
        "tdf_winners['time_margin'] = tdf_winners['time_margin']*60\n",
        "tdf_winners = tdf_winners.rename(columns={'time_margin': 'win_margin_min'})"
      ],
      "execution_count": null,
      "outputs": []
    },
    {
      "cell_type": "code",
      "metadata": {
        "id": "qMBGgAp-wqjM",
        "colab": {
          "base_uri": "https://localhost:8080/",
          "height": 243
        },
        "outputId": "4eb6f4ac-c09f-4887-8c5e-58c8c6383a40"
      },
      "source": [
        "#looks like we have pretty consistent data starting in 1947! \n",
        "#make a final data set excluding the first two rows \n",
        "tdf_final = tdf_winners.iloc[2:,:]\n",
        "tdf_final.tail()"
      ],
      "execution_count": null,
      "outputs": [
        {
          "output_type": "execute_result",
          "data": {
            "text/html": [
              "<div>\n",
              "<style scoped>\n",
              "    .dataframe tbody tr th:only-of-type {\n",
              "        vertical-align: middle;\n",
              "    }\n",
              "\n",
              "    .dataframe tbody tr th {\n",
              "        vertical-align: top;\n",
              "    }\n",
              "\n",
              "    .dataframe thead th {\n",
              "        text-align: right;\n",
              "    }\n",
              "</style>\n",
              "<table border=\"1\" class=\"dataframe\">\n",
              "  <thead>\n",
              "    <tr style=\"text-align: right;\">\n",
              "      <th></th>\n",
              "      <th>edition</th>\n",
              "      <th>year</th>\n",
              "      <th>winner_name</th>\n",
              "      <th>distance</th>\n",
              "      <th>time_overall</th>\n",
              "      <th>win_margin_min</th>\n",
              "      <th>stage_wins</th>\n",
              "      <th>stages_led</th>\n",
              "      <th>height</th>\n",
              "      <th>weight</th>\n",
              "      <th>age</th>\n",
              "      <th>nationality</th>\n",
              "    </tr>\n",
              "  </thead>\n",
              "  <tbody>\n",
              "    <tr>\n",
              "      <th>101</th>\n",
              "      <td>102</td>\n",
              "      <td>2015</td>\n",
              "      <td>Chris Froome</td>\n",
              "      <td>3360.3</td>\n",
              "      <td>84.770556</td>\n",
              "      <td>1.016667</td>\n",
              "      <td>1</td>\n",
              "      <td>16</td>\n",
              "      <td>1.86</td>\n",
              "      <td>69.0</td>\n",
              "      <td>30</td>\n",
              "      <td>Great Britain</td>\n",
              "    </tr>\n",
              "    <tr>\n",
              "      <th>102</th>\n",
              "      <td>103</td>\n",
              "      <td>2016</td>\n",
              "      <td>Chris Froome</td>\n",
              "      <td>3529.0</td>\n",
              "      <td>89.080000</td>\n",
              "      <td>4.066667</td>\n",
              "      <td>2</td>\n",
              "      <td>14</td>\n",
              "      <td>1.86</td>\n",
              "      <td>69.0</td>\n",
              "      <td>31</td>\n",
              "      <td>Great Britain</td>\n",
              "    </tr>\n",
              "    <tr>\n",
              "      <th>103</th>\n",
              "      <td>104</td>\n",
              "      <td>2017</td>\n",
              "      <td>Chris Froome</td>\n",
              "      <td>3540.0</td>\n",
              "      <td>86.348611</td>\n",
              "      <td>0.900000</td>\n",
              "      <td>0</td>\n",
              "      <td>15</td>\n",
              "      <td>1.86</td>\n",
              "      <td>69.0</td>\n",
              "      <td>32</td>\n",
              "      <td>Great Britain</td>\n",
              "    </tr>\n",
              "    <tr>\n",
              "      <th>104</th>\n",
              "      <td>105</td>\n",
              "      <td>2018</td>\n",
              "      <td>Geraint Thomas</td>\n",
              "      <td>3349.0</td>\n",
              "      <td>83.286944</td>\n",
              "      <td>1.016667</td>\n",
              "      <td>2</td>\n",
              "      <td>11</td>\n",
              "      <td>1.83</td>\n",
              "      <td>71.0</td>\n",
              "      <td>32</td>\n",
              "      <td>Great Britain</td>\n",
              "    </tr>\n",
              "    <tr>\n",
              "      <th>105</th>\n",
              "      <td>106</td>\n",
              "      <td>2019</td>\n",
              "      <td>Egan Bernal</td>\n",
              "      <td>3349.0</td>\n",
              "      <td>82.950000</td>\n",
              "      <td>1.016667</td>\n",
              "      <td>0</td>\n",
              "      <td>2</td>\n",
              "      <td>1.75</td>\n",
              "      <td>60.0</td>\n",
              "      <td>22</td>\n",
              "      <td>Colombia</td>\n",
              "    </tr>\n",
              "  </tbody>\n",
              "</table>\n",
              "</div>"
            ],
            "text/plain": [
              "     edition  year     winner_name  ...  weight  age     nationality\n",
              "101      102  2015    Chris Froome  ...    69.0   30   Great Britain\n",
              "102      103  2016    Chris Froome  ...    69.0   31   Great Britain\n",
              "103      104  2017    Chris Froome  ...    69.0   32   Great Britain\n",
              "104      105  2018  Geraint Thomas  ...    71.0   32   Great Britain\n",
              "105      106  2019     Egan Bernal  ...    60.0   22        Colombia\n",
              "\n",
              "[5 rows x 12 columns]"
            ]
          },
          "metadata": {},
          "execution_count": 13
        }
      ]
    },
    {
      "cell_type": "markdown",
      "metadata": {
        "id": "nnDdfShT_UB4"
      },
      "source": [
        "Let the analysis begin!"
      ]
    },
    {
      "cell_type": "code",
      "metadata": {
        "colab": {
          "base_uri": "https://localhost:8080/",
          "height": 341
        },
        "id": "ns-bGbtF_oFz",
        "outputId": "7c94af73-7a9d-46a5-fcea-2af60bb12f98"
      },
      "source": [
        "#create a heatmap to see if any correlation coefficients jump out\n",
        "import matplotlib.pyplot as plt\n",
        "import seaborn as sns\n",
        "\n",
        "sns.heatmap(tdf_final.corr(), annot=True);"
      ],
      "execution_count": null,
      "outputs": [
        {
          "output_type": "display_data",
          "data": {
            "image/png": "[encoded data removed]",
            "text/plain": [
              "<Figure size 432x288 with 2 Axes>"
            ]
          },
          "metadata": {
            "needs_background": "light"
          }
        }
      ]
    },
    {
      "cell_type": "markdown",
      "metadata": {
        "id": "qCWMgpcB7c9a"
      },
      "source": [
        "Do height & weight have anything to do with margin of victory? "
      ]
    },
    {
      "cell_type": "code",
      "metadata": {
        "colab": {
          "base_uri": "https://localhost:8080/",
          "height": 385
        },
        "id": "xKE-ahtr_yRi",
        "outputId": "bc1f4657-0cb1-4579-80ed-87c795c7e1cb"
      },
      "source": [
        "#create a line plot between height (indep) & win_margin (dependent)to visualize the relationship \n",
        "sns.lmplot(x='height', y='win_margin_min', data=tdf_final,ci=None);\n",
        "\n",
        "ax = plt.gca()\n",
        "ax.set_title(\"TDF Winner Height & Margin of Victory\");\n"
      ],
      "execution_count": null,
      "outputs": [
        {
          "output_type": "display_data",
          "data": {
            "image/png": "[encoded data removed]",
            "text/plain": [
              "<Figure size 360x360 with 1 Axes>"
            ]
          },
          "metadata": {
            "needs_background": "light"
          }
        }
      ]
    },
    {
      "cell_type": "markdown",
      "metadata": {
        "id": "clQmVsUy8E0p"
      },
      "source": [
        "It looks like there's a slight negative correlation- meaning that the taller a TDF winner is, the narrower their margin of victory. Let's see if it's statistically significant using a 95% confidence interval. "
      ]
    },
    {
      "cell_type": "markdown",
      "metadata": {
        "id": "HUrIwQIZ9c8q"
      },
      "source": [
        "Null Hypothesis: Height and Margin of Victory are unrelated. \n",
        "\n",
        "Ho: $\\beta_1$ = 0\n",
        "\n",
        "Alternative Hypothesis: Height and Margin of Victory are related.\n",
        "\n",
        "Ha: $\\beta_1 \\neq$ 0"
      ]
    },
    {
      "cell_type": "code",
      "metadata": {
        "colab": {
          "base_uri": "https://localhost:8080/"
        },
        "id": "odObyLKs8pTm",
        "outputId": "c4ee182a-542e-4157-d63d-c15b9e1741a8"
      },
      "source": [
        "import matplotlib.pyplot as plt\n",
        "from sklearn.linear_model import LinearRegression\n",
        "from statsmodels.formula.api import ols\n",
        "\n",
        "model_height = ols('win_margin_min ~ height', data = tdf_final).fit()\n",
        "print(model_height.summary())"
      ],
      "execution_count": null,
      "outputs": [
        {
          "output_type": "stream",
          "name": "stderr",
          "text": [
            "/usr/local/lib/python3.7/dist-packages/statsmodels/tools/_testing.py:19: FutureWarning: pandas.util.testing is deprecated. Use the functions in the public API at pandas.testing instead.\n",
            "  import pandas.util.testing as tm\n"
          ]
        },
        {
          "output_type": "stream",
          "name": "stdout",
          "text": [
            "                            OLS Regression Results                            \n",
            "==============================================================================\n",
            "Dep. Variable:         win_margin_min   R-squared:                       0.030\n",
            "Model:                            OLS   Adj. R-squared:                  0.014\n",
            "Method:                 Least Squares   F-statistic:                     1.905\n",
            "Date:                Thu, 18 Nov 2021   Prob (F-statistic):              0.173\n",
            "Time:                        18:12:36   Log-Likelihood:                -200.07\n",
            "No. Observations:                  63   AIC:                             404.1\n",
            "Df Residuals:                      61   BIC:                             408.4\n",
            "Df Model:                           1                                         \n",
            "Covariance Type:            nonrobust                                         \n",
            "==============================================================================\n",
            "                 coef    std err          t      P>|t|      [0.025      0.975]\n",
            "------------------------------------------------------------------------------\n",
            "Intercept     40.1489     24.630      1.630      0.108      -9.102      89.400\n",
            "height       -19.0646     13.814     -1.380      0.173     -46.687       8.557\n",
            "==============================================================================\n",
            "Omnibus:                       28.946   Durbin-Watson:                   1.464\n",
            "Prob(Omnibus):                  0.000   Jarque-Bera (JB):               52.008\n",
            "Skew:                           1.606   Prob(JB):                     5.09e-12\n",
            "Kurtosis:                       6.081   Cond. No.                         77.8\n",
            "==============================================================================\n",
            "\n",
            "Warnings:\n",
            "[1] Standard Errors assume that the covariance matrix of the errors is correctly specified.\n"
          ]
        }
      ]
    },
    {
      "cell_type": "markdown",
      "metadata": {
        "id": "duFT3OaR-me4"
      },
      "source": [
        "Our $R^2$ value of .030 indicates that only 3% of the variability in margin of victory can be explained by changes in height. Furthermore, our p-value of .173 is above our 95% alpha value of .05. \n",
        "\n",
        "**Therefore, we fail to reject the null hypothesis and conclude that height does not play a statistically significant role in a TdF Winner's margin of victory.**"
      ]
    },
    {
      "cell_type": "markdown",
      "metadata": {
        "id": "i-ROkQNm_hUU"
      },
      "source": [
        "Next, let's look at weight."
      ]
    },
    {
      "cell_type": "code",
      "metadata": {
        "colab": {
          "base_uri": "https://localhost:8080/",
          "height": 369
        },
        "id": "VBI2SFC_79Yd",
        "outputId": "d5700082-3a5b-4c04-81d7-3cd1a89498b1"
      },
      "source": [
        "sns.lmplot(x='weight', y='win_margin_min', data=tdf_final,ci=None);"
      ],
      "execution_count": null,
      "outputs": [
        {
          "output_type": "display_data",
          "data": {
            "image/png": "[encoded data removed]",
            "text/plain": [
              "<Figure size 360x360 with 1 Axes>"
            ]
          },
          "metadata": {
            "needs_background": "light"
          }
        }
      ]
    },
    {
      "cell_type": "markdown",
      "metadata": {
        "id": "MUv6Lfqa_2hg"
      },
      "source": [
        "Wow! I don't think this warrants running a statistical model, but I'll run one for practice! "
      ]
    },
    {
      "cell_type": "markdown",
      "metadata": {
        "id": "a1VKzqN7_xOv"
      },
      "source": [
        "Using a 95% confidence interval:\n",
        "\n",
        "Null Hypothesis: Weight and Margin of Victory are unrelated. \n",
        "\n",
        "Ho: $\\beta_1$ = 0\n",
        "\n",
        "Alternative Hypothesis: Weight and Margin of Victory are related.\n",
        "\n",
        "Ha: $\\beta_1 \\neq$ 0"
      ]
    },
    {
      "cell_type": "code",
      "metadata": {
        "colab": {
          "base_uri": "https://localhost:8080/"
        },
        "id": "XrmvDPy0ADKQ",
        "outputId": "439d1662-cee0-4968-ac78-9bc969efb05a"
      },
      "source": [
        "model_weight = ols('win_margin_min ~ weight', data = tdf_final).fit()\n",
        "print(model_weight.summary())"
      ],
      "execution_count": null,
      "outputs": [
        {
          "output_type": "stream",
          "name": "stdout",
          "text": [
            "                            OLS Regression Results                            \n",
            "==============================================================================\n",
            "Dep. Variable:         win_margin_min   R-squared:                       0.000\n",
            "Model:                            OLS   Adj. R-squared:                 -0.016\n",
            "Method:                 Least Squares   F-statistic:                  0.002040\n",
            "Date:                Thu, 18 Nov 2021   Prob (F-statistic):              0.964\n",
            "Time:                        18:12:36   Log-Likelihood:                -201.04\n",
            "No. Observations:                  63   AIC:                             406.1\n",
            "Df Residuals:                      61   BIC:                             410.4\n",
            "Df Model:                           1                                         \n",
            "Covariance Type:            nonrobust                                         \n",
            "==============================================================================\n",
            "                 coef    std err          t      P>|t|      [0.025      0.975]\n",
            "------------------------------------------------------------------------------\n",
            "Intercept      5.7805      8.688      0.665      0.508     -11.592      23.153\n",
            "weight         0.0056      0.125      0.045      0.964      -0.244       0.255\n",
            "==============================================================================\n",
            "Omnibus:                       31.575   Durbin-Watson:                   1.386\n",
            "Prob(Omnibus):                  0.000   Jarque-Bera (JB):               60.437\n",
            "Skew:                           1.726   Prob(JB):                     7.52e-14\n",
            "Kurtosis:                       6.333   Cond. No.                         803.\n",
            "==============================================================================\n",
            "\n",
            "Warnings:\n",
            "[1] Standard Errors assume that the covariance matrix of the errors is correctly specified.\n"
          ]
        }
      ]
    },
    {
      "cell_type": "markdown",
      "metadata": {
        "id": "kABBV499AMa3"
      },
      "source": [
        "I've never seen an $R^2$ value so low and a p-value so high! \n",
        "\n",
        "Again, we fail to reject the null and conclude that weight and margin of victory are NOT statistically significant. "
      ]
    },
    {
      "cell_type": "markdown",
      "metadata": {
        "id": "iu1Pl9EsAhI2"
      },
      "source": [
        "What about age? "
      ]
    },
    {
      "cell_type": "code",
      "metadata": {
        "colab": {
          "base_uri": "https://localhost:8080/",
          "height": 369
        },
        "id": "9XAFMBAWAjYK",
        "outputId": "4344cc87-4666-46f3-f802-74b91eae39eb"
      },
      "source": [
        "sns.lmplot(x='age', y='win_margin_min', data=tdf_final, ci=None);"
      ],
      "execution_count": null,
      "outputs": [
        {
          "output_type": "display_data",
          "data": {
            "image/png": "[encoded data removed]",
            "text/plain": [
              "<Figure size 360x360 with 1 Axes>"
            ]
          },
          "metadata": {
            "needs_background": "light"
          }
        }
      ]
    },
    {
      "cell_type": "markdown",
      "metadata": {
        "id": "gxI86GVUCT0-"
      },
      "source": [
        "Nope! "
      ]
    },
    {
      "cell_type": "markdown",
      "metadata": {
        "id": "qTbFOdnZB485"
      },
      "source": [
        "Distance must correlate to margin of victory, right? The longer the race, the more time a winner has to build a sizeable lead? Sounds plausible. Let's investigate. "
      ]
    },
    {
      "cell_type": "code",
      "metadata": {
        "colab": {
          "base_uri": "https://localhost:8080/",
          "height": 385
        },
        "id": "YavhcaNeB04H",
        "outputId": "59b04ab3-a9de-4f6e-bedc-5592ba2ca3a3"
      },
      "source": [
        "sns.lmplot(x='distance', y='win_margin_min', data=tdf_final, ci=95);\n",
        "\n",
        "\n",
        "ax = plt.gca()\n",
        "ax.set_title(\"TDF Distance & Margin of Victory\");"
      ],
      "execution_count": null,
      "outputs": [
        {
          "output_type": "display_data",
          "data": {
            "image/png": "[encoded data removed]",
            "text/plain": [
              "<Figure size 360x360 with 1 Axes>"
            ]
          },
          "metadata": {
            "needs_background": "light"
          }
        }
      ]
    },
    {
      "cell_type": "markdown",
      "metadata": {
        "id": "3PmQ3eboCQvp"
      },
      "source": [
        "Looks promising! We even have a few outliers. I'll leave them in for now. "
      ]
    },
    {
      "cell_type": "markdown",
      "metadata": {
        "id": "foSvnFQYCYZP"
      },
      "source": [
        "Using a 95% confidence interval:\n",
        "\n",
        "Null Hypothesis: Distance and Margin of Victory are unrelated. \n",
        "\n",
        "Ho: $\\beta_1$ = 0\n",
        "\n",
        "Alternative Hypothesis: Distance and Margin of Victory are related.\n",
        "\n",
        "Ha: $\\beta_1 \\neq$ 0"
      ]
    },
    {
      "cell_type": "code",
      "metadata": {
        "colab": {
          "base_uri": "https://localhost:8080/"
        },
        "id": "avWbMTHZCXg-",
        "outputId": "7397f68a-beae-4501-bf6c-60b8686ebe98"
      },
      "source": [
        "model_distance = ols('win_margin_min ~ distance', data = tdf_final).fit()\n",
        "print(model_distance.summary())"
      ],
      "execution_count": null,
      "outputs": [
        {
          "output_type": "stream",
          "name": "stdout",
          "text": [
            "                            OLS Regression Results                            \n",
            "==============================================================================\n",
            "Dep. Variable:         win_margin_min   R-squared:                       0.270\n",
            "Model:                            OLS   Adj. R-squared:                  0.258\n",
            "Method:                 Least Squares   F-statistic:                     22.58\n",
            "Date:                Thu, 18 Nov 2021   Prob (F-statistic):           1.27e-05\n",
            "Time:                        18:12:37   Log-Likelihood:                -191.12\n",
            "No. Observations:                  63   AIC:                             386.2\n",
            "Df Residuals:                      61   BIC:                             390.5\n",
            "Df Model:                           1                                         \n",
            "Covariance Type:            nonrobust                                         \n",
            "==============================================================================\n",
            "                 coef    std err          t      P>|t|      [0.025      0.975]\n",
            "------------------------------------------------------------------------------\n",
            "Intercept    -20.5191      5.654     -3.629      0.001     -31.824      -9.214\n",
            "distance       0.0068      0.001      4.752      0.000       0.004       0.010\n",
            "==============================================================================\n",
            "Omnibus:                        6.367   Durbin-Watson:                   1.901\n",
            "Prob(Omnibus):                  0.041   Jarque-Bera (JB):                5.458\n",
            "Skew:                           0.646   Prob(JB):                       0.0653\n",
            "Kurtosis:                       3.641   Cond. No.                     3.45e+04\n",
            "==============================================================================\n",
            "\n",
            "Warnings:\n",
            "[1] Standard Errors assume that the covariance matrix of the errors is correctly specified.\n",
            "[2] The condition number is large, 3.45e+04. This might indicate that there are\n",
            "strong multicollinearity or other numerical problems.\n"
          ]
        }
      ]
    },
    {
      "cell_type": "markdown",
      "metadata": {
        "id": "_-aBarySCnIJ"
      },
      "source": [
        "Finally! We found something (albiet obvious).\n",
        "\n",
        "We now have a model for predicting the margin of victory in minutes given a TdF distance. \n",
        "\n",
        "$\\hat{y}$ = -20.5191 + (.0068*Distance)\n",
        "\n",
        "Our intercept of -20.5191 isn't of much significant since a TdF will never be 0km, but our slope of .0068 indicates that we can expect an .0068 minute (or .408 second) increase in the margin of victory for a Tour Winner for every 1km increase in distance. "
      ]
    },
    {
      "cell_type": "code",
      "metadata": {
        "id": "KIxefJutCj0B"
      },
      "source": [
        ""
      ],
      "execution_count": null,
      "outputs": []
    },
    {
      "cell_type": "markdown",
      "metadata": {
        "id": "N2dqXgkLE0QZ"
      },
      "source": [
        "Next, let's look at the number of stages won and see if that is a good indicator of margin of victory. "
      ]
    },
    {
      "cell_type": "code",
      "metadata": {
        "colab": {
          "base_uri": "https://localhost:8080/",
          "height": 369
        },
        "id": "7PZzBVzvE7dE",
        "outputId": "927256e6-859b-4f86-e367-845c0faf703c"
      },
      "source": [
        "sns.lmplot(x='stage_wins', y='win_margin_min', data=tdf_final, ci=None); "
      ],
      "execution_count": null,
      "outputs": [
        {
          "output_type": "display_data",
          "data": {
            "image/png": "[encoded data removed]",
            "text/plain": [
              "<Figure size 360x360 with 1 Axes>"
            ]
          },
          "metadata": {
            "needs_background": "light"
          }
        }
      ]
    },
    {
      "cell_type": "code",
      "metadata": {
        "colab": {
          "base_uri": "https://localhost:8080/"
        },
        "id": "_I02i3n4E_gr",
        "outputId": "2fb38cf5-4c40-4d52-b1f4-879098d1dfd9"
      },
      "source": [
        "model_stage_wins = ols('win_margin_min ~ distance + C(stage_wins)', data = tdf_final).fit()\n",
        "print(model_stage_wins.summary())"
      ],
      "execution_count": null,
      "outputs": [
        {
          "output_type": "stream",
          "name": "stdout",
          "text": [
            "                            OLS Regression Results                            \n",
            "==============================================================================\n",
            "Dep. Variable:         win_margin_min   R-squared:                       0.657\n",
            "Model:                            OLS   Adj. R-squared:                  0.599\n",
            "Method:                 Least Squares   F-statistic:                     11.29\n",
            "Date:                Thu, 18 Nov 2021   Prob (F-statistic):           1.28e-09\n",
            "Time:                        18:12:37   Log-Likelihood:                -167.32\n",
            "No. Observations:                  63   AIC:                             354.6\n",
            "Df Residuals:                      53   BIC:                             376.1\n",
            "Df Model:                           9                                         \n",
            "Covariance Type:            nonrobust                                         \n",
            "======================================================================================\n",
            "                         coef    std err          t      P>|t|      [0.025      0.975]\n",
            "--------------------------------------------------------------------------------------\n",
            "Intercept            -15.9273      4.452     -3.578      0.001     -24.857      -6.998\n",
            "C(stage_wins)[T.1]     0.6082      2.165      0.281      0.780      -3.734       4.951\n",
            "C(stage_wins)[T.2]     1.7713      2.129      0.832      0.409      -2.499       6.041\n",
            "C(stage_wins)[T.3]     1.2099      2.400      0.504      0.616      -3.604       6.024\n",
            "C(stage_wins)[T.4]     3.4796      2.262      1.538      0.130      -1.058       8.017\n",
            "C(stage_wins)[T.5]    11.1783      2.718      4.113      0.000       5.727      16.630\n",
            "C(stage_wins)[T.6]    10.6606      2.927      3.643      0.001       4.790      16.531\n",
            "C(stage_wins)[T.7]    14.6708      3.390      4.328      0.000       7.872      21.470\n",
            "C(stage_wins)[T.8]     5.8255      3.341      1.744      0.087      -0.875      12.526\n",
            "distance               0.0049      0.001      4.224      0.000       0.003       0.007\n",
            "==============================================================================\n",
            "Omnibus:                        0.874   Durbin-Watson:                   1.766\n",
            "Prob(Omnibus):                  0.646   Jarque-Bera (JB):                0.480\n",
            "Skew:                           0.205   Prob(JB):                        0.787\n",
            "Kurtosis:                       3.120   Cond. No.                     4.93e+04\n",
            "==============================================================================\n",
            "\n",
            "Warnings:\n",
            "[1] Standard Errors assume that the covariance matrix of the errors is correctly specified.\n",
            "[2] The condition number is large, 4.93e+04. This might indicate that there are\n",
            "strong multicollinearity or other numerical problems.\n"
          ]
        }
      ]
    },
    {
      "cell_type": "code",
      "metadata": {
        "colab": {
          "base_uri": "https://localhost:8080/",
          "height": 441
        },
        "id": "IgjHoz1XGY-k",
        "outputId": "2b8c0a8d-71ca-477b-9472-9117d1bc3b08"
      },
      "source": [
        "sns.lmplot('distance','win_margin_min',hue='stage_wins',data=tdf_final,ci=None)"
      ],
      "execution_count": null,
      "outputs": [
        {
          "output_type": "stream",
          "name": "stderr",
          "text": [
            "/usr/local/lib/python3.7/dist-packages/seaborn/_decorators.py:43: FutureWarning: Pass the following variables as keyword args: x, y. From version 0.12, the only valid positional argument will be `data`, and passing other arguments without an explicit keyword will result in an error or misinterpretation.\n",
            "  FutureWarning\n"
          ]
        },
        {
          "output_type": "execute_result",
          "data": {
            "text/plain": [
              "<seaborn.axisgrid.FacetGrid at 0x7fbfa041cfd0>"
            ]
          },
          "metadata": {},
          "execution_count": 24
        },
        {
          "output_type": "display_data",
          "data": {
            "image/png": "[encoded data removed]",
            "text/plain": [
              "<Figure size 423.375x360 with 1 Axes>"
            ]
          },
          "metadata": {
            "needs_background": "light"
          }
        }
      ]
    },
    {
      "cell_type": "markdown",
      "metadata": {
        "id": "E7ZbfQUWIEf9"
      },
      "source": [
        "Looks like distance doesnt matter as much in stage wins categories 0,1, or 4. However, we don't have a lot of data points to go off of here..."
      ]
    },
    {
      "cell_type": "code",
      "metadata": {
        "colab": {
          "base_uri": "https://localhost:8080/",
          "height": 302
        },
        "id": "8D_iX1cqIBX8",
        "outputId": "c79479b6-4406-4dfb-c2c3-7c29899437fb"
      },
      "source": [
        "sns.boxplot(x='stage_wins',y='distance',data=tdf_final)"
      ],
      "execution_count": null,
      "outputs": [
        {
          "output_type": "execute_result",
          "data": {
            "text/plain": [
              "<matplotlib.axes._subplots.AxesSubplot at 0x7fbfa041c2d0>"
            ]
          },
          "metadata": {},
          "execution_count": 25
        },
        {
          "output_type": "display_data",
          "data": {
            "image/png": "[encoded data removed]",
            "text/plain": [
              "<Figure size 432x288 with 1 Axes>"
            ]
          },
          "metadata": {
            "needs_background": "light"
          }
        }
      ]
    },
    {
      "cell_type": "code",
      "metadata": {
        "colab": {
          "base_uri": "https://localhost:8080/"
        },
        "id": "EG4Dw3hiJlpL",
        "outputId": "9c9861cb-8352-4a05-ec22-8848d276d77b"
      },
      "source": [
        "tdf_final['distance'].value_counts()"
      ],
      "execution_count": null,
      "outputs": [
        {
          "output_type": "execute_result",
          "data": {
            "text/plain": [
              "3349.0    2\n",
              "3765.0    2\n",
              "4779.0    1\n",
              "3875.0    1\n",
              "4274.0    1\n",
              "         ..\n",
              "4397.0    1\n",
              "4188.0    1\n",
              "4922.0    1\n",
              "4476.0    1\n",
              "4642.0    1\n",
              "Name: distance, Length: 61, dtype: int64"
            ]
          },
          "metadata": {},
          "execution_count": 26
        }
      ]
    },
    {
      "cell_type": "code",
      "metadata": {
        "colab": {
          "base_uri": "https://localhost:8080/"
        },
        "id": "MCFzpCTSo0py",
        "outputId": "e018d382-f846-4bb7-e630-c6f32e8e358e"
      },
      "source": [
        "tdf_final['distance'].max()"
      ],
      "execution_count": null,
      "outputs": [
        {
          "output_type": "execute_result",
          "data": {
            "text/plain": [
              "4922.0"
            ]
          },
          "metadata": {},
          "execution_count": 27
        }
      ]
    },
    {
      "cell_type": "code",
      "metadata": {
        "colab": {
          "base_uri": "https://localhost:8080/",
          "height": 243
        },
        "id": "XKRukAip3gV8",
        "outputId": "f518d5cb-9e90-4acd-cfae-e88b3893f906"
      },
      "source": [
        "tdf_final.tail()"
      ],
      "execution_count": null,
      "outputs": [
        {
          "output_type": "execute_result",
          "data": {
            "text/html": [
              "<div>\n",
              "<style scoped>\n",
              "    .dataframe tbody tr th:only-of-type {\n",
              "        vertical-align: middle;\n",
              "    }\n",
              "\n",
              "    .dataframe tbody tr th {\n",
              "        vertical-align: top;\n",
              "    }\n",
              "\n",
              "    .dataframe thead th {\n",
              "        text-align: right;\n",
              "    }\n",
              "</style>\n",
              "<table border=\"1\" class=\"dataframe\">\n",
              "  <thead>\n",
              "    <tr style=\"text-align: right;\">\n",
              "      <th></th>\n",
              "      <th>edition</th>\n",
              "      <th>year</th>\n",
              "      <th>winner_name</th>\n",
              "      <th>distance</th>\n",
              "      <th>time_overall</th>\n",
              "      <th>win_margin_min</th>\n",
              "      <th>stage_wins</th>\n",
              "      <th>stages_led</th>\n",
              "      <th>height</th>\n",
              "      <th>weight</th>\n",
              "      <th>age</th>\n",
              "      <th>nationality</th>\n",
              "    </tr>\n",
              "  </thead>\n",
              "  <tbody>\n",
              "    <tr>\n",
              "      <th>101</th>\n",
              "      <td>102</td>\n",
              "      <td>2015</td>\n",
              "      <td>Chris Froome</td>\n",
              "      <td>3360.3</td>\n",
              "      <td>84.770556</td>\n",
              "      <td>1.016667</td>\n",
              "      <td>1</td>\n",
              "      <td>16</td>\n",
              "      <td>1.86</td>\n",
              "      <td>69.0</td>\n",
              "      <td>30</td>\n",
              "      <td>Great Britain</td>\n",
              "    </tr>\n",
              "    <tr>\n",
              "      <th>102</th>\n",
              "      <td>103</td>\n",
              "      <td>2016</td>\n",
              "      <td>Chris Froome</td>\n",
              "      <td>3529.0</td>\n",
              "      <td>89.080000</td>\n",
              "      <td>4.066667</td>\n",
              "      <td>2</td>\n",
              "      <td>14</td>\n",
              "      <td>1.86</td>\n",
              "      <td>69.0</td>\n",
              "      <td>31</td>\n",
              "      <td>Great Britain</td>\n",
              "    </tr>\n",
              "    <tr>\n",
              "      <th>103</th>\n",
              "      <td>104</td>\n",
              "      <td>2017</td>\n",
              "      <td>Chris Froome</td>\n",
              "      <td>3540.0</td>\n",
              "      <td>86.348611</td>\n",
              "      <td>0.900000</td>\n",
              "      <td>0</td>\n",
              "      <td>15</td>\n",
              "      <td>1.86</td>\n",
              "      <td>69.0</td>\n",
              "      <td>32</td>\n",
              "      <td>Great Britain</td>\n",
              "    </tr>\n",
              "    <tr>\n",
              "      <th>104</th>\n",
              "      <td>105</td>\n",
              "      <td>2018</td>\n",
              "      <td>Geraint Thomas</td>\n",
              "      <td>3349.0</td>\n",
              "      <td>83.286944</td>\n",
              "      <td>1.016667</td>\n",
              "      <td>2</td>\n",
              "      <td>11</td>\n",
              "      <td>1.83</td>\n",
              "      <td>71.0</td>\n",
              "      <td>32</td>\n",
              "      <td>Great Britain</td>\n",
              "    </tr>\n",
              "    <tr>\n",
              "      <th>105</th>\n",
              "      <td>106</td>\n",
              "      <td>2019</td>\n",
              "      <td>Egan Bernal</td>\n",
              "      <td>3349.0</td>\n",
              "      <td>82.950000</td>\n",
              "      <td>1.016667</td>\n",
              "      <td>0</td>\n",
              "      <td>2</td>\n",
              "      <td>1.75</td>\n",
              "      <td>60.0</td>\n",
              "      <td>22</td>\n",
              "      <td>Colombia</td>\n",
              "    </tr>\n",
              "  </tbody>\n",
              "</table>\n",
              "</div>"
            ],
            "text/plain": [
              "     edition  year     winner_name  ...  weight  age     nationality\n",
              "101      102  2015    Chris Froome  ...    69.0   30   Great Britain\n",
              "102      103  2016    Chris Froome  ...    69.0   31   Great Britain\n",
              "103      104  2017    Chris Froome  ...    69.0   32   Great Britain\n",
              "104      105  2018  Geraint Thomas  ...    71.0   32   Great Britain\n",
              "105      106  2019     Egan Bernal  ...    60.0   22        Colombia\n",
              "\n",
              "[5 rows x 12 columns]"
            ]
          },
          "metadata": {},
          "execution_count": 28
        }
      ]
    },
    {
      "cell_type": "code",
      "metadata": {
        "id": "Cl4Kbbbx3hC9",
        "colab": {
          "base_uri": "https://localhost:8080/"
        },
        "outputId": "5695952f-3e4b-4e62-e69c-7b01b0ce7c23"
      },
      "source": [
        "tdf_final['height'].max()"
      ],
      "execution_count": null,
      "outputs": [
        {
          "output_type": "execute_result",
          "data": {
            "text/plain": [
              "1.9"
            ]
          },
          "metadata": {},
          "execution_count": 32
        }
      ]
    },
    {
      "cell_type": "code",
      "metadata": {
        "colab": {
          "base_uri": "https://localhost:8080/"
        },
        "id": "FyTEMAFcfipC",
        "outputId": "3b312775-49ab-4e49-f744-a9aa480adc42"
      },
      "source": [
        "tdf_final['height'].min()"
      ],
      "execution_count": null,
      "outputs": [
        {
          "output_type": "execute_result",
          "data": {
            "text/plain": [
              "1.61"
            ]
          },
          "metadata": {},
          "execution_count": 33
        }
      ]
    },
    {
      "cell_type": "code",
      "metadata": {
        "colab": {
          "base_uri": "https://localhost:8080/"
        },
        "id": "MHMirr43fnFh",
        "outputId": "96caafde-59a0-407b-d805-370fdef08f98"
      },
      "source": [
        "tdf_final['height'].mean()"
      ],
      "execution_count": null,
      "outputs": [
        {
          "output_type": "execute_result",
          "data": {
            "text/plain": [
              "1.782222222222222"
            ]
          },
          "metadata": {},
          "execution_count": 34
        }
      ]
    },
    {
      "cell_type": "code",
      "metadata": {
        "id": "HQotMw-7fpHt"
      },
      "source": [
        ""
      ],
      "execution_count": null,
      "outputs": []
    }
  ]
}